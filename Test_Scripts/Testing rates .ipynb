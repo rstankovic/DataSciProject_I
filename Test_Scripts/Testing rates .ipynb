{
 "cells": [
  {
   "cell_type": "code",
   "execution_count": 1,
   "metadata": {},
   "outputs": [],
   "source": [
    "import requests\n",
    "import json\n",
    "import pandas as pd\n",
    "import numpy as np\n",
    "import matplotlib.pyplot as plt\n",
    "import scipy.stats as sts \n",
    "import os\n",
    "import numpy as np\n",
    "import pandas as pd\n",
    "from scipy.stats import linregress\n"
   ]
  },
  {
   "cell_type": "code",
   "execution_count": 2,
   "metadata": {
    "scrolled": true
   },
   "outputs": [
    {
     "data": {
      "text/plain": [
       "state                      object\n",
       "positive                    int64\n",
       "positiveScore             float64\n",
       "negativeScore             float64\n",
       "negativeRegularScore      float64\n",
       "commercialScore           float64\n",
       "grade                      object\n",
       "score                     float64\n",
       "negative                    int64\n",
       "pending                   float64\n",
       "hospitalizedCurrently     float64\n",
       "hospitalizedCumulative    float64\n",
       "inIcuCurrently            float64\n",
       "inIcuCumulative           float64\n",
       "onVentilatorCurrently     float64\n",
       "onVentilatorCumulative    float64\n",
       "recovered                 float64\n",
       "lastUpdateEt               object\n",
       "checkTimeEt                object\n",
       "death                     float64\n",
       "hospitalized              float64\n",
       "total                       int64\n",
       "totalTestResults            int64\n",
       "posNeg                      int64\n",
       "fips                        int64\n",
       "dateModified               object\n",
       "dateChecked                object\n",
       "notes                      object\n",
       "hash                       object\n",
       "dtype: object"
      ]
     },
     "execution_count": 2,
     "metadata": {},
     "output_type": "execute_result"
    }
   ],
   "source": [
    "path = \"current.csv\"\n",
    "df = pd.read_csv(path)\n",
    "df.dtypes"
   ]
  },
  {
   "cell_type": "code",
   "execution_count": 3,
   "metadata": {
    "scrolled": false
   },
   "outputs": [
    {
     "data": {
      "text/html": [
       "<div>\n",
       "<style scoped>\n",
       "    .dataframe tbody tr th:only-of-type {\n",
       "        vertical-align: middle;\n",
       "    }\n",
       "\n",
       "    .dataframe tbody tr th {\n",
       "        vertical-align: top;\n",
       "    }\n",
       "\n",
       "    .dataframe thead th {\n",
       "        text-align: right;\n",
       "    }\n",
       "</style>\n",
       "<table border=\"1\" class=\"dataframe\">\n",
       "  <thead>\n",
       "    <tr style=\"text-align: right;\">\n",
       "      <th></th>\n",
       "      <th>state</th>\n",
       "      <th>positive</th>\n",
       "      <th>positiveScore</th>\n",
       "      <th>negativeScore</th>\n",
       "      <th>negativeRegularScore</th>\n",
       "      <th>commercialScore</th>\n",
       "      <th>grade</th>\n",
       "      <th>score</th>\n",
       "      <th>negative</th>\n",
       "      <th>pending</th>\n",
       "      <th>...</th>\n",
       "      <th>death</th>\n",
       "      <th>hospitalized</th>\n",
       "      <th>total</th>\n",
       "      <th>totalTestResults</th>\n",
       "      <th>posNeg</th>\n",
       "      <th>fips</th>\n",
       "      <th>dateModified</th>\n",
       "      <th>dateChecked</th>\n",
       "      <th>notes</th>\n",
       "      <th>hash</th>\n",
       "    </tr>\n",
       "  </thead>\n",
       "  <tbody>\n",
       "    <tr>\n",
       "      <td>0</td>\n",
       "      <td>AK</td>\n",
       "      <td>285</td>\n",
       "      <td>1.0</td>\n",
       "      <td>1.0</td>\n",
       "      <td>1.0</td>\n",
       "      <td>1.0</td>\n",
       "      <td>A</td>\n",
       "      <td>4.0</td>\n",
       "      <td>8063</td>\n",
       "      <td>NaN</td>\n",
       "      <td>...</td>\n",
       "      <td>9.0</td>\n",
       "      <td>32.0</td>\n",
       "      <td>8348</td>\n",
       "      <td>8348</td>\n",
       "      <td>8348</td>\n",
       "      <td>2</td>\n",
       "      <td>2020-04-14T18:15:00Z</td>\n",
       "      <td>2020-04-14T19:08:00Z</td>\n",
       "      <td>Please stop using the \"total\" field. Use \"tota...</td>\n",
       "      <td>6164f73886cfabe73c7c9fad56709e2b57f5c334</td>\n",
       "    </tr>\n",
       "    <tr>\n",
       "      <td>1</td>\n",
       "      <td>AL</td>\n",
       "      <td>3876</td>\n",
       "      <td>1.0</td>\n",
       "      <td>1.0</td>\n",
       "      <td>0.0</td>\n",
       "      <td>1.0</td>\n",
       "      <td>B</td>\n",
       "      <td>3.0</td>\n",
       "      <td>29241</td>\n",
       "      <td>NaN</td>\n",
       "      <td>...</td>\n",
       "      <td>110.0</td>\n",
       "      <td>493.0</td>\n",
       "      <td>33117</td>\n",
       "      <td>33117</td>\n",
       "      <td>33117</td>\n",
       "      <td>1</td>\n",
       "      <td>2020-04-14T04:00:00Z</td>\n",
       "      <td>2020-04-14T20:20:00Z</td>\n",
       "      <td>Please stop using the \"total\" field. Use \"tota...</td>\n",
       "      <td>d517ca37c599d5eebf0a0d326dafe5e4ba6bbce2</td>\n",
       "    </tr>\n",
       "    <tr>\n",
       "      <td>2</td>\n",
       "      <td>AR</td>\n",
       "      <td>1480</td>\n",
       "      <td>1.0</td>\n",
       "      <td>1.0</td>\n",
       "      <td>1.0</td>\n",
       "      <td>1.0</td>\n",
       "      <td>A</td>\n",
       "      <td>4.0</td>\n",
       "      <td>19651</td>\n",
       "      <td>NaN</td>\n",
       "      <td>...</td>\n",
       "      <td>30.0</td>\n",
       "      <td>130.0</td>\n",
       "      <td>21131</td>\n",
       "      <td>21131</td>\n",
       "      <td>21131</td>\n",
       "      <td>5</td>\n",
       "      <td>2020-04-14T18:46:00Z</td>\n",
       "      <td>2020-04-14T19:12:00Z</td>\n",
       "      <td>Please stop using the \"total\" field. Use \"tota...</td>\n",
       "      <td>3a7c804cd01d3eaad04b7b28774f955dd2129c69</td>\n",
       "    </tr>\n",
       "    <tr>\n",
       "      <td>3</td>\n",
       "      <td>AZ</td>\n",
       "      <td>3806</td>\n",
       "      <td>1.0</td>\n",
       "      <td>1.0</td>\n",
       "      <td>0.0</td>\n",
       "      <td>1.0</td>\n",
       "      <td>B</td>\n",
       "      <td>3.0</td>\n",
       "      <td>40290</td>\n",
       "      <td>NaN</td>\n",
       "      <td>...</td>\n",
       "      <td>131.0</td>\n",
       "      <td>NaN</td>\n",
       "      <td>44096</td>\n",
       "      <td>44096</td>\n",
       "      <td>44096</td>\n",
       "      <td>4</td>\n",
       "      <td>2020-04-14T04:00:00Z</td>\n",
       "      <td>2020-04-14T19:23:00Z</td>\n",
       "      <td>Please stop using the \"total\" field. Use \"tota...</td>\n",
       "      <td>095e72e11a4a87ffa7c0f77468bc4b449accb00d</td>\n",
       "    </tr>\n",
       "    <tr>\n",
       "      <td>4</td>\n",
       "      <td>CA</td>\n",
       "      <td>23338</td>\n",
       "      <td>1.0</td>\n",
       "      <td>1.0</td>\n",
       "      <td>0.0</td>\n",
       "      <td>1.0</td>\n",
       "      <td>B</td>\n",
       "      <td>3.0</td>\n",
       "      <td>178870</td>\n",
       "      <td>13200.0</td>\n",
       "      <td>...</td>\n",
       "      <td>758.0</td>\n",
       "      <td>NaN</td>\n",
       "      <td>215408</td>\n",
       "      <td>202208</td>\n",
       "      <td>202208</td>\n",
       "      <td>6</td>\n",
       "      <td>2020-04-13T04:00:00Z</td>\n",
       "      <td>2020-04-14T21:25:00Z</td>\n",
       "      <td>Please stop using the \"total\" field. Use \"tota...</td>\n",
       "      <td>7a4e124e05f90a9fe7beead00aa1b97925289da6</td>\n",
       "    </tr>\n",
       "  </tbody>\n",
       "</table>\n",
       "<p>5 rows × 29 columns</p>\n",
       "</div>"
      ],
      "text/plain": [
       "  state  positive  positiveScore  negativeScore  negativeRegularScore  \\\n",
       "0    AK       285            1.0            1.0                   1.0   \n",
       "1    AL      3876            1.0            1.0                   0.0   \n",
       "2    AR      1480            1.0            1.0                   1.0   \n",
       "3    AZ      3806            1.0            1.0                   0.0   \n",
       "4    CA     23338            1.0            1.0                   0.0   \n",
       "\n",
       "   commercialScore grade  score  negative  pending  ...  death  hospitalized  \\\n",
       "0              1.0     A    4.0      8063      NaN  ...    9.0          32.0   \n",
       "1              1.0     B    3.0     29241      NaN  ...  110.0         493.0   \n",
       "2              1.0     A    4.0     19651      NaN  ...   30.0         130.0   \n",
       "3              1.0     B    3.0     40290      NaN  ...  131.0           NaN   \n",
       "4              1.0     B    3.0    178870  13200.0  ...  758.0           NaN   \n",
       "\n",
       "    total  totalTestResults  posNeg  fips          dateModified  \\\n",
       "0    8348              8348    8348     2  2020-04-14T18:15:00Z   \n",
       "1   33117             33117   33117     1  2020-04-14T04:00:00Z   \n",
       "2   21131             21131   21131     5  2020-04-14T18:46:00Z   \n",
       "3   44096             44096   44096     4  2020-04-14T04:00:00Z   \n",
       "4  215408            202208  202208     6  2020-04-13T04:00:00Z   \n",
       "\n",
       "            dateChecked                                              notes  \\\n",
       "0  2020-04-14T19:08:00Z  Please stop using the \"total\" field. Use \"tota...   \n",
       "1  2020-04-14T20:20:00Z  Please stop using the \"total\" field. Use \"tota...   \n",
       "2  2020-04-14T19:12:00Z  Please stop using the \"total\" field. Use \"tota...   \n",
       "3  2020-04-14T19:23:00Z  Please stop using the \"total\" field. Use \"tota...   \n",
       "4  2020-04-14T21:25:00Z  Please stop using the \"total\" field. Use \"tota...   \n",
       "\n",
       "                                       hash  \n",
       "0  6164f73886cfabe73c7c9fad56709e2b57f5c334  \n",
       "1  d517ca37c599d5eebf0a0d326dafe5e4ba6bbce2  \n",
       "2  3a7c804cd01d3eaad04b7b28774f955dd2129c69  \n",
       "3  095e72e11a4a87ffa7c0f77468bc4b449accb00d  \n",
       "4  7a4e124e05f90a9fe7beead00aa1b97925289da6  \n",
       "\n",
       "[5 rows x 29 columns]"
      ]
     },
     "execution_count": 3,
     "metadata": {},
     "output_type": "execute_result"
    }
   ],
   "source": [
    "df.head()"
   ]
  },
  {
   "cell_type": "markdown",
   "metadata": {},
   "source": [
    "<b> Determine the percentage of positive cases with respect to the total tests done in each state"
   ]
  },
  {
   "cell_type": "code",
   "execution_count": 4,
   "metadata": {},
   "outputs": [],
   "source": [
    "df = df[[\"state\", \"positive\", \"negative\", \"pending\", \"hospitalized\", \"death\"]]"
   ]
  },
  {
   "cell_type": "code",
   "execution_count": 30,
   "metadata": {},
   "outputs": [],
   "source": [
    "df[\"total tests\"] = (df[\"positive\"] + df[\"negative\"])/10000"
   ]
  },
  {
   "cell_type": "code",
   "execution_count": 31,
   "metadata": {},
   "outputs": [],
   "source": [
    "df[\"percent positive\"] = round((df[\"positive\"]/ (df[\"positive\"] + df[\"negative\"]))*100, 2)\n",
    "df[\"percent negative\"] = 100 - df[\"percent positive\"] "
   ]
  },
  {
   "cell_type": "code",
   "execution_count": 52,
   "metadata": {},
   "outputs": [
    {
     "data": {
      "text/plain": [
       "12.78"
      ]
     },
     "execution_count": 52,
     "metadata": {},
     "output_type": "execute_result"
    }
   ],
   "source": [
    "#Average rate of positive cases in the US\n",
    "round(df[\"percent positive\"].mean(),2)"
   ]
  },
  {
   "cell_type": "markdown",
   "metadata": {},
   "source": [
    "<b> List of States that have a higher rate of positive cases than the rest of the US"
   ]
  },
  {
   "cell_type": "code",
   "execution_count": 81,
   "metadata": {},
   "outputs": [
    {
     "data": {
      "text/html": [
       "<div>\n",
       "<style scoped>\n",
       "    .dataframe tbody tr th:only-of-type {\n",
       "        vertical-align: middle;\n",
       "    }\n",
       "\n",
       "    .dataframe tbody tr th {\n",
       "        vertical-align: top;\n",
       "    }\n",
       "\n",
       "    .dataframe thead th {\n",
       "        text-align: right;\n",
       "    }\n",
       "</style>\n",
       "<table border=\"1\" class=\"dataframe\">\n",
       "  <thead>\n",
       "    <tr style=\"text-align: right;\">\n",
       "      <th></th>\n",
       "      <th>state</th>\n",
       "      <th>percent positive</th>\n",
       "    </tr>\n",
       "  </thead>\n",
       "  <tbody>\n",
       "    <tr>\n",
       "      <td>11</td>\n",
       "      <td>NJ</td>\n",
       "      <td>49.24</td>\n",
       "    </tr>\n",
       "    <tr>\n",
       "      <td>12</td>\n",
       "      <td>NY</td>\n",
       "      <td>40.51</td>\n",
       "    </tr>\n",
       "    <tr>\n",
       "      <td>18</td>\n",
       "      <td>MP</td>\n",
       "      <td>32.50</td>\n",
       "    </tr>\n",
       "    <tr>\n",
       "      <td>10</td>\n",
       "      <td>MI</td>\n",
       "      <td>31.31</td>\n",
       "    </tr>\n",
       "    <tr>\n",
       "      <td>1</td>\n",
       "      <td>CT</td>\n",
       "      <td>30.52</td>\n",
       "    </tr>\n",
       "    <tr>\n",
       "      <td>4</td>\n",
       "      <td>GA</td>\n",
       "      <td>23.02</td>\n",
       "    </tr>\n",
       "    <tr>\n",
       "      <td>8</td>\n",
       "      <td>MA</td>\n",
       "      <td>22.25</td>\n",
       "    </tr>\n",
       "    <tr>\n",
       "      <td>5</td>\n",
       "      <td>IL</td>\n",
       "      <td>21.02</td>\n",
       "    </tr>\n",
       "    <tr>\n",
       "      <td>0</td>\n",
       "      <td>CO</td>\n",
       "      <td>19.85</td>\n",
       "    </tr>\n",
       "    <tr>\n",
       "      <td>13</td>\n",
       "      <td>PA</td>\n",
       "      <td>18.97</td>\n",
       "    </tr>\n",
       "    <tr>\n",
       "      <td>6</td>\n",
       "      <td>IN</td>\n",
       "      <td>18.53</td>\n",
       "    </tr>\n",
       "    <tr>\n",
       "      <td>7</td>\n",
       "      <td>LA</td>\n",
       "      <td>18.17</td>\n",
       "    </tr>\n",
       "    <tr>\n",
       "      <td>2</td>\n",
       "      <td>DC</td>\n",
       "      <td>17.87</td>\n",
       "    </tr>\n",
       "    <tr>\n",
       "      <td>9</td>\n",
       "      <td>MD</td>\n",
       "      <td>17.63</td>\n",
       "    </tr>\n",
       "    <tr>\n",
       "      <td>15</td>\n",
       "      <td>VA</td>\n",
       "      <td>14.43</td>\n",
       "    </tr>\n",
       "    <tr>\n",
       "      <td>3</td>\n",
       "      <td>DE</td>\n",
       "      <td>14.31</td>\n",
       "    </tr>\n",
       "    <tr>\n",
       "      <td>17</td>\n",
       "      <td>GU</td>\n",
       "      <td>14.27</td>\n",
       "    </tr>\n",
       "    <tr>\n",
       "      <td>14</td>\n",
       "      <td>RI</td>\n",
       "      <td>14.20</td>\n",
       "    </tr>\n",
       "    <tr>\n",
       "      <td>19</td>\n",
       "      <td>VI</td>\n",
       "      <td>13.53</td>\n",
       "    </tr>\n",
       "    <tr>\n",
       "      <td>16</td>\n",
       "      <td>PR</td>\n",
       "      <td>12.81</td>\n",
       "    </tr>\n",
       "  </tbody>\n",
       "</table>\n",
       "</div>"
      ],
      "text/plain": [
       "   state  percent positive\n",
       "11    NJ             49.24\n",
       "12    NY             40.51\n",
       "18    MP             32.50\n",
       "10    MI             31.31\n",
       "1     CT             30.52\n",
       "4     GA             23.02\n",
       "8     MA             22.25\n",
       "5     IL             21.02\n",
       "0     CO             19.85\n",
       "13    PA             18.97\n",
       "6     IN             18.53\n",
       "7     LA             18.17\n",
       "2     DC             17.87\n",
       "9     MD             17.63\n",
       "15    VA             14.43\n",
       "3     DE             14.31\n",
       "17    GU             14.27\n",
       "14    RI             14.20\n",
       "19    VI             13.53\n",
       "16    PR             12.81"
      ]
     },
     "execution_count": 81,
     "metadata": {},
     "output_type": "execute_result"
    }
   ],
   "source": [
    "higher_infection_rate = df.loc[df[\"percent positive\"] >= 12.78]\n",
    "higher_infection_rate.reset_index(drop=True, inplace=True)\n",
    "higher_infection_rate = higher_infection_rate[[\"state\", \"percent positive\"]]\n",
    "higher_infection_rate.sort_values(by=\"percent positive\", ascending=False)"
   ]
  },
  {
   "cell_type": "code",
   "execution_count": 50,
   "metadata": {},
   "outputs": [
    {
     "data": {
      "text/plain": [
       "Text(0, 0.5, 'Total tests (x10,000)')"
      ]
     },
     "execution_count": 50,
     "metadata": {},
     "output_type": "execute_result"
    },
    {
     "data": {
      "image/png": "[encoded data removed]",
      "text/plain": [
       "<Figure size 1080x216 with 1 Axes>"
      ]
     },
     "metadata": {
      "needs_background": "light"
     },
     "output_type": "display_data"
    }
   ],
   "source": [
    "plt.figure(figsize=(15,3))\n",
    "plt.tight_layout()\n",
    "\n",
    "\n",
    "x_axis_1 = np.arange(len(df[\"state\"]))\n",
    "tick_locations = [value for value in x_axis_1]\n",
    "plt.xticks(tick_locations, df[\"state\"], rotation=90)\n",
    "\n",
    "y_axis_1 = df[\"total tests\"]\n",
    "plt.bar(x_axis_1, y_axis_1, color=\"C0\", align=\"center\")\n",
    "plt.xticks(rotation=90, fontsize=12)\n",
    "\n",
    "plt.xlim([-1, x_axis_1.size])\n",
    "\n",
    "\n",
    "# Formatting\n",
    "plt.title(\"Total number of tests done\", fontsize=14)\n",
    "plt.xlabel(\"States\", fontsize=12)\n",
    "plt.ylabel(\"Total tests (x10,000)\", fontsize=12)"
   ]
  },
  {
   "cell_type": "code",
   "execution_count": 58,
   "metadata": {},
   "outputs": [
    {
     "data": {
      "text/plain": [
       "<matplotlib.collections.LineCollection at 0x1a290d2190>"
      ]
     },
     "execution_count": 58,
     "metadata": {},
     "output_type": "execute_result"
    },
    {
     "data": {
      "image/png": "[encoded data removed]",
      "text/plain": [
       "<Figure size 1080x216 with 1 Axes>"
      ]
     },
     "metadata": {
      "needs_background": "light"
     },
     "output_type": "display_data"
    }
   ],
   "source": [
    "plt.figure(figsize=(15,3))\n",
    "plt.tight_layout()\n",
    "x_axis = np.arange(len(df[\"state\"]))\n",
    "tick_locations = [value for value in x_axis]\n",
    "plt.xticks(tick_locations, df[\"state\"], rotation=90)\n",
    "\n",
    "y_axis = df[\"percent positive\"]\n",
    "plt.bar(x_axis, y_axis, color=\"C0\", align=\"center\")\n",
    "plt.xticks(rotation=90, fontsize=12)\n",
    "\n",
    "plt.xlim([-1, x_axis.size])\n",
    "\n",
    "\n",
    "# Formatting\n",
    "plt.title(\"Percentage of population testing positive across States\", fontsize=14)\n",
    "plt.xlabel(\"States\", fontsize=12)\n",
    "plt.ylabel(\"Percentage\", fontsize=12)\n",
    "\n",
    "plt.hlines(12.78, -1, 60, color=\"r\", linestyles=\"dashed\")\n",
    "\n",
    "#plt.savefig(\"Percent positive.png\", dpi=300)\n"
   ]
  },
  {
   "cell_type": "markdown",
   "metadata": {},
   "source": [
    "<b> Conclusion: Some states like NJ and NY have a high percentage of positive cases\n",
    "    Inference: Either these states are offering testing only when the individual shows more symptoms or there is a higher rate of infection in these areas"
   ]
  },
  {
   "cell_type": "code",
   "execution_count": 48,
   "metadata": {},
   "outputs": [
    {
     "data": {
      "text/plain": [
       "<matplotlib.legend.Legend at 0x1a2917ce50>"
      ]
     },
     "execution_count": 48,
     "metadata": {},
     "output_type": "execute_result"
    },
    {
     "data": {
      "text/plain": [
       "<Figure size 432x288 with 0 Axes>"
      ]
     },
     "metadata": {},
     "output_type": "display_data"
    },
    {
     "data": {
      "image/png": "[encoded data removed]",
      "text/plain": [
       "<Figure size 1440x720 with 1 Axes>"
      ]
     },
     "metadata": {
      "needs_background": "light"
     },
     "output_type": "display_data"
    }
   ],
   "source": [
    "#Bar Graph\n",
    "plt.tight_layout()\n",
    "plt.figure(figsize=(20,10))\n",
    "\n",
    "x_axis_1 = df[\"state\"]\n",
    "y_axis_1 = df[\"total tests\"]\n",
    "y_axis_2 = df[\"percent positive\"]\n",
    "\n",
    "plt.ylabel(\"Total tests (in 10,000) and percentage of positive cases\", fontsize=16)\n",
    "plt.xlabel(\"States\", fontsize=16)\n",
    "plt.xticks(rotation=90, fontsize=12)\n",
    "plt.yticks(fontsize=12)\n",
    "\n",
    "plt.bar(x_axis_1, y_axis_1, color=\"crimson\", align=\"center\")\n",
    "plt.bar(x_axis_1, y_axis_2, color=\"C0\", align=\"center\", alpha=0.5)\n",
    "\n",
    "\n",
    "\n",
    "colors = {'total tests':'crimson', 'percent positive':'C0'}         \n",
    "labels = list(colors.keys())\n",
    "handles = [plt.Rectangle((0,0),1,1, color=colors[label]) for label in labels]\n",
    "plt.legend(handles, labels)\n",
    "\n",
    "\n",
    "\n",
    "# plt.savefig(\"6 month projection of infection, hospitalization and ICU care_Chicago, Manhattan vs US.png\", dpi=300)\n",
    "# plt.show()"
   ]
  },
  {
   "cell_type": "code",
   "execution_count": 106,
   "metadata": {},
   "outputs": [
    {
     "name": "stdout",
     "output_type": "stream",
     "text": [
      "The r-squared is: 0.268\n"
     ]
    },
    {
     "data": {
      "image/png": "[encoded data removed]",
      "text/plain": [
       "<Figure size 432x288 with 1 Axes>"
      ]
     },
     "metadata": {
      "needs_background": "light"
     },
     "output_type": "display_data"
    }
   ],
   "source": [
    "#Plotting\n",
    "plt.scatter(df[\"total tests\"], df[\"percent positive\"])\n",
    "\n",
    "\n",
    "plt.title(\"Tests vs percentage of positive cases\")\n",
    "plt.xlabel(\"Total tests\")\n",
    "plt.ylabel(\"Percentage of positive cases\")\n",
    "\n",
    "#Regression\n",
    "(slope, intercept, rvalue, pvalue, stderr) = linregress(df[\"total tests\"], df[\"percent positive\"])\n",
    "regress_values = df[\"total tests\"] * slope + intercept\n",
    "line_eq = \"y = \" + str(round(slope,2)) + \"x + \" + str(round(intercept,2))\n",
    "\n",
    "plt.plot(df[\"total tests\"],regress_values,\"r-\")\n",
    "plt.annotate(line_eq,(20,40), fontsize=14, color=\"red\")\n",
    "\n",
    "# correlation = st.pearsonr(df[\"total tests\"], df[\"percetage of positive cases\"])\n",
    "print(f\"The r-squared is: {round(rvalue**2, 3)}\")"
   ]
  },
  {
   "cell_type": "code",
   "execution_count": 20,
   "metadata": {},
   "outputs": [
    {
     "data": {
      "text/html": [
       "<div>\n",
       "<style scoped>\n",
       "    .dataframe tbody tr th:only-of-type {\n",
       "        vertical-align: middle;\n",
       "    }\n",
       "\n",
       "    .dataframe tbody tr th {\n",
       "        vertical-align: top;\n",
       "    }\n",
       "\n",
       "    .dataframe thead th {\n",
       "        text-align: right;\n",
       "    }\n",
       "</style>\n",
       "<table border=\"1\" class=\"dataframe\">\n",
       "  <thead>\n",
       "    <tr style=\"text-align: right;\">\n",
       "      <th></th>\n",
       "      <th>state</th>\n",
       "      <th>positive</th>\n",
       "      <th>negative</th>\n",
       "      <th>pending</th>\n",
       "      <th>hospitalized</th>\n",
       "      <th>death</th>\n",
       "      <th>total tests</th>\n",
       "      <th>percent positive</th>\n",
       "      <th>percent negative</th>\n",
       "    </tr>\n",
       "  </thead>\n",
       "  <tbody>\n",
       "    <tr>\n",
       "      <td>31</td>\n",
       "      <td>NJ</td>\n",
       "      <td>68824</td>\n",
       "      <td>70950</td>\n",
       "      <td>NaN</td>\n",
       "      <td>NaN</td>\n",
       "      <td>2805.0</td>\n",
       "      <td>139774</td>\n",
       "      <td>49.24</td>\n",
       "      <td>50.76</td>\n",
       "    </tr>\n",
       "    <tr>\n",
       "      <td>34</td>\n",
       "      <td>NY</td>\n",
       "      <td>202208</td>\n",
       "      <td>296935</td>\n",
       "      <td>NaN</td>\n",
       "      <td>46201.0</td>\n",
       "      <td>10834.0</td>\n",
       "      <td>499143</td>\n",
       "      <td>40.51</td>\n",
       "      <td>59.49</td>\n",
       "    </tr>\n",
       "    <tr>\n",
       "      <td>54</td>\n",
       "      <td>MP</td>\n",
       "      <td>13</td>\n",
       "      <td>27</td>\n",
       "      <td>7.0</td>\n",
       "      <td>NaN</td>\n",
       "      <td>2.0</td>\n",
       "      <td>40</td>\n",
       "      <td>32.50</td>\n",
       "      <td>67.50</td>\n",
       "    </tr>\n",
       "    <tr>\n",
       "      <td>22</td>\n",
       "      <td>MI</td>\n",
       "      <td>27001</td>\n",
       "      <td>59225</td>\n",
       "      <td>NaN</td>\n",
       "      <td>NaN</td>\n",
       "      <td>1768.0</td>\n",
       "      <td>86226</td>\n",
       "      <td>31.31</td>\n",
       "      <td>68.69</td>\n",
       "    </tr>\n",
       "    <tr>\n",
       "      <td>6</td>\n",
       "      <td>CT</td>\n",
       "      <td>13989</td>\n",
       "      <td>31852</td>\n",
       "      <td>NaN</td>\n",
       "      <td>NaN</td>\n",
       "      <td>671.0</td>\n",
       "      <td>45841</td>\n",
       "      <td>30.52</td>\n",
       "      <td>69.48</td>\n",
       "    </tr>\n",
       "    <tr>\n",
       "      <td>10</td>\n",
       "      <td>GA</td>\n",
       "      <td>14223</td>\n",
       "      <td>47572</td>\n",
       "      <td>NaN</td>\n",
       "      <td>2769.0</td>\n",
       "      <td>501.0</td>\n",
       "      <td>61795</td>\n",
       "      <td>23.02</td>\n",
       "      <td>76.98</td>\n",
       "    </tr>\n",
       "    <tr>\n",
       "      <td>19</td>\n",
       "      <td>MA</td>\n",
       "      <td>28163</td>\n",
       "      <td>98388</td>\n",
       "      <td>NaN</td>\n",
       "      <td>2340.0</td>\n",
       "      <td>957.0</td>\n",
       "      <td>126551</td>\n",
       "      <td>22.25</td>\n",
       "      <td>77.75</td>\n",
       "    </tr>\n",
       "    <tr>\n",
       "      <td>14</td>\n",
       "      <td>IL</td>\n",
       "      <td>23247</td>\n",
       "      <td>87369</td>\n",
       "      <td>NaN</td>\n",
       "      <td>NaN</td>\n",
       "      <td>868.0</td>\n",
       "      <td>110616</td>\n",
       "      <td>21.02</td>\n",
       "      <td>78.98</td>\n",
       "    </tr>\n",
       "    <tr>\n",
       "      <td>5</td>\n",
       "      <td>CO</td>\n",
       "      <td>7691</td>\n",
       "      <td>31051</td>\n",
       "      <td>NaN</td>\n",
       "      <td>1493.0</td>\n",
       "      <td>308.0</td>\n",
       "      <td>38742</td>\n",
       "      <td>19.85</td>\n",
       "      <td>80.15</td>\n",
       "    </tr>\n",
       "    <tr>\n",
       "      <td>38</td>\n",
       "      <td>PA</td>\n",
       "      <td>25345</td>\n",
       "      <td>108286</td>\n",
       "      <td>NaN</td>\n",
       "      <td>NaN</td>\n",
       "      <td>584.0</td>\n",
       "      <td>133631</td>\n",
       "      <td>18.97</td>\n",
       "      <td>81.03</td>\n",
       "    </tr>\n",
       "  </tbody>\n",
       "</table>\n",
       "</div>"
      ],
      "text/plain": [
       "   state  positive  negative  pending  hospitalized    death  total tests  \\\n",
       "31    NJ     68824     70950      NaN           NaN   2805.0       139774   \n",
       "34    NY    202208    296935      NaN       46201.0  10834.0       499143   \n",
       "54    MP        13        27      7.0           NaN      2.0           40   \n",
       "22    MI     27001     59225      NaN           NaN   1768.0        86226   \n",
       "6     CT     13989     31852      NaN           NaN    671.0        45841   \n",
       "10    GA     14223     47572      NaN        2769.0    501.0        61795   \n",
       "19    MA     28163     98388      NaN        2340.0    957.0       126551   \n",
       "14    IL     23247     87369      NaN           NaN    868.0       110616   \n",
       "5     CO      7691     31051      NaN        1493.0    308.0        38742   \n",
       "38    PA     25345    108286      NaN           NaN    584.0       133631   \n",
       "\n",
       "    percent positive  percent negative  \n",
       "31             49.24             50.76  \n",
       "34             40.51             59.49  \n",
       "54             32.50             67.50  \n",
       "22             31.31             68.69  \n",
       "6              30.52             69.48  \n",
       "10             23.02             76.98  \n",
       "19             22.25             77.75  \n",
       "14             21.02             78.98  \n",
       "5              19.85             80.15  \n",
       "38             18.97             81.03  "
      ]
     },
     "execution_count": 20,
     "metadata": {},
     "output_type": "execute_result"
    }
   ],
   "source": [
    "strict_testing = df.nlargest(10, 'percent positive')\n",
    "strict_testing"
   ]
  },
  {
   "cell_type": "code",
   "execution_count": 19,
   "metadata": {},
   "outputs": [
    {
     "data": {
      "text/html": [
       "<div>\n",
       "<style scoped>\n",
       "    .dataframe tbody tr th:only-of-type {\n",
       "        vertical-align: middle;\n",
       "    }\n",
       "\n",
       "    .dataframe tbody tr th {\n",
       "        vertical-align: top;\n",
       "    }\n",
       "\n",
       "    .dataframe thead th {\n",
       "        text-align: right;\n",
       "    }\n",
       "</style>\n",
       "<table border=\"1\" class=\"dataframe\">\n",
       "  <thead>\n",
       "    <tr style=\"text-align: right;\">\n",
       "      <th></th>\n",
       "      <th>state</th>\n",
       "      <th>positive</th>\n",
       "      <th>negative</th>\n",
       "      <th>pending</th>\n",
       "      <th>hospitalized</th>\n",
       "      <th>death</th>\n",
       "      <th>total tests</th>\n",
       "      <th>percent positive</th>\n",
       "      <th>percent negative</th>\n",
       "    </tr>\n",
       "  </thead>\n",
       "  <tbody>\n",
       "    <tr>\n",
       "      <td>52</td>\n",
       "      <td>AS</td>\n",
       "      <td>0</td>\n",
       "      <td>3</td>\n",
       "      <td>17.0</td>\n",
       "      <td>NaN</td>\n",
       "      <td>NaN</td>\n",
       "      <td>3</td>\n",
       "      <td>0.00</td>\n",
       "      <td>100.00</td>\n",
       "    </tr>\n",
       "    <tr>\n",
       "      <td>11</td>\n",
       "      <td>HI</td>\n",
       "      <td>504</td>\n",
       "      <td>18916</td>\n",
       "      <td>NaN</td>\n",
       "      <td>44.0</td>\n",
       "      <td>9.0</td>\n",
       "      <td>19420</td>\n",
       "      <td>2.60</td>\n",
       "      <td>97.40</td>\n",
       "    </tr>\n",
       "    <tr>\n",
       "      <td>28</td>\n",
       "      <td>ND</td>\n",
       "      <td>341</td>\n",
       "      <td>10575</td>\n",
       "      <td>NaN</td>\n",
       "      <td>42.0</td>\n",
       "      <td>9.0</td>\n",
       "      <td>10916</td>\n",
       "      <td>3.12</td>\n",
       "      <td>96.88</td>\n",
       "    </tr>\n",
       "    <tr>\n",
       "      <td>0</td>\n",
       "      <td>AK</td>\n",
       "      <td>285</td>\n",
       "      <td>8063</td>\n",
       "      <td>NaN</td>\n",
       "      <td>32.0</td>\n",
       "      <td>9.0</td>\n",
       "      <td>8348</td>\n",
       "      <td>3.41</td>\n",
       "      <td>96.59</td>\n",
       "    </tr>\n",
       "    <tr>\n",
       "      <td>49</td>\n",
       "      <td>WV</td>\n",
       "      <td>640</td>\n",
       "      <td>16398</td>\n",
       "      <td>NaN</td>\n",
       "      <td>164.0</td>\n",
       "      <td>9.0</td>\n",
       "      <td>17038</td>\n",
       "      <td>3.76</td>\n",
       "      <td>96.24</td>\n",
       "    </tr>\n",
       "    <tr>\n",
       "      <td>32</td>\n",
       "      <td>NM</td>\n",
       "      <td>1345</td>\n",
       "      <td>30625</td>\n",
       "      <td>NaN</td>\n",
       "      <td>181.0</td>\n",
       "      <td>31.0</td>\n",
       "      <td>31970</td>\n",
       "      <td>4.21</td>\n",
       "      <td>95.79</td>\n",
       "    </tr>\n",
       "    <tr>\n",
       "      <td>23</td>\n",
       "      <td>MN</td>\n",
       "      <td>1695</td>\n",
       "      <td>37546</td>\n",
       "      <td>NaN</td>\n",
       "      <td>405.0</td>\n",
       "      <td>79.0</td>\n",
       "      <td>39241</td>\n",
       "      <td>4.32</td>\n",
       "      <td>95.68</td>\n",
       "    </tr>\n",
       "    <tr>\n",
       "      <td>26</td>\n",
       "      <td>MT</td>\n",
       "      <td>399</td>\n",
       "      <td>8835</td>\n",
       "      <td>NaN</td>\n",
       "      <td>50.0</td>\n",
       "      <td>7.0</td>\n",
       "      <td>9234</td>\n",
       "      <td>4.32</td>\n",
       "      <td>95.68</td>\n",
       "    </tr>\n",
       "    <tr>\n",
       "      <td>50</td>\n",
       "      <td>WY</td>\n",
       "      <td>275</td>\n",
       "      <td>5689</td>\n",
       "      <td>NaN</td>\n",
       "      <td>43.0</td>\n",
       "      <td>1.0</td>\n",
       "      <td>5964</td>\n",
       "      <td>4.61</td>\n",
       "      <td>95.39</td>\n",
       "    </tr>\n",
       "    <tr>\n",
       "      <td>37</td>\n",
       "      <td>OR</td>\n",
       "      <td>1633</td>\n",
       "      <td>30730</td>\n",
       "      <td>NaN</td>\n",
       "      <td>381.0</td>\n",
       "      <td>55.0</td>\n",
       "      <td>32363</td>\n",
       "      <td>5.05</td>\n",
       "      <td>94.95</td>\n",
       "    </tr>\n",
       "  </tbody>\n",
       "</table>\n",
       "</div>"
      ],
      "text/plain": [
       "   state  positive  negative  pending  hospitalized  death  total tests  \\\n",
       "52    AS         0         3     17.0           NaN    NaN            3   \n",
       "11    HI       504     18916      NaN          44.0    9.0        19420   \n",
       "28    ND       341     10575      NaN          42.0    9.0        10916   \n",
       "0     AK       285      8063      NaN          32.0    9.0         8348   \n",
       "49    WV       640     16398      NaN         164.0    9.0        17038   \n",
       "32    NM      1345     30625      NaN         181.0   31.0        31970   \n",
       "23    MN      1695     37546      NaN         405.0   79.0        39241   \n",
       "26    MT       399      8835      NaN          50.0    7.0         9234   \n",
       "50    WY       275      5689      NaN          43.0    1.0         5964   \n",
       "37    OR      1633     30730      NaN         381.0   55.0        32363   \n",
       "\n",
       "    percent positive  percent negative  \n",
       "52              0.00            100.00  \n",
       "11              2.60             97.40  \n",
       "28              3.12             96.88  \n",
       "0               3.41             96.59  \n",
       "49              3.76             96.24  \n",
       "32              4.21             95.79  \n",
       "23              4.32             95.68  \n",
       "26              4.32             95.68  \n",
       "50              4.61             95.39  \n",
       "37              5.05             94.95  "
      ]
     },
     "execution_count": 19,
     "metadata": {},
     "output_type": "execute_result"
    }
   ],
   "source": [
    "relaxed_testing = df.nlargest(10,'percent negative')\n",
    "relaxed_testing"
   ]
  },
  {
   "cell_type": "code",
   "execution_count": 27,
   "metadata": {},
   "outputs": [
    {
     "data": {
      "text/plain": [
       "Text(0, 0.5, 'Percentage')"
      ]
     },
     "execution_count": 27,
     "metadata": {},
     "output_type": "execute_result"
    },
    {
     "data": {
      "image/png": "[encoded data removed]",
      "text/plain": [
       "<Figure size 1080x216 with 1 Axes>"
      ]
     },
     "metadata": {
      "needs_background": "light"
     },
     "output_type": "display_data"
    }
   ],
   "source": [
    "plt.figure(figsize=(15,3))\n",
    "plt.tight_layout()\n",
    "\n",
    "\n",
    "x_axis_1 = np.arange(len(strict_testing[\"state\"]))\n",
    "tick_locations = [value for value in x_axis_1]\n",
    "plt.xticks(tick_locations, strict_testing[\"state\"], rotation=90)\n",
    "\n",
    "y_axis_1 = strict_testing[\"percent positive\"]\n",
    "plt.bar(x_axis_1, y_axis_1, color=\"C0\", align=\"center\")\n",
    "plt.xticks(rotation=90, fontsize=12)\n",
    "\n",
    "plt.xlim([-1, x_axis_1.size])\n",
    "\n",
    "\n",
    "# Formatting\n",
    "plt.title(\"Percentage of population testing positive across States\", fontsize=14)\n",
    "plt.xlabel(\"States\", fontsize=12)\n",
    "plt.ylabel(\"Percentage\", fontsize=12)\n"
   ]
  },
  {
   "cell_type": "markdown",
   "metadata": {},
   "source": [
    "<b> Determine which states are more relaxed on testing criteria"
   ]
  },
  {
   "cell_type": "markdown",
   "metadata": {},
   "source": [
    "<b> Which states are testing aggresively?"
   ]
  },
  {
   "cell_type": "code",
   "execution_count": 26,
   "metadata": {},
   "outputs": [
    {
     "data": {
      "text/plain": [
       "Text(0, 0.5, 'Percentage')"
      ]
     },
     "execution_count": 26,
     "metadata": {},
     "output_type": "execute_result"
    },
    {
     "data": {
      "image/png": "[encoded data removed]",
      "text/plain": [
       "<Figure size 1080x216 with 1 Axes>"
      ]
     },
     "metadata": {
      "needs_background": "light"
     },
     "output_type": "display_data"
    }
   ],
   "source": [
    "plt.figure(figsize=(15,3))\n",
    "plt.tight_layout()\n",
    "\n",
    "x_axis_2 = np.arange(len(relaxed_testing[\"state\"]))\n",
    "tick_locations = [value for value in x_axis_2]\n",
    "plt.xticks(tick_locations, relaxed_testing[\"state\"], rotation=90)\n",
    "\n",
    "y_axis_2 = relaxed_testing[\"percent negative\"]\n",
    "plt.bar(x_axis_2, y_axis_2, color=\"crimson\", align=\"center\")\n",
    "plt.xticks(rotation=90, fontsize=12)\n",
    "\n",
    "plt.xlim([-1, x_axis_1.size])\n",
    "\n",
    "\n",
    "# Formatting\n",
    "plt.title(\"Percentage of population testing negative across States\", fontsize=14)\n",
    "plt.xlabel(\"States\", fontsize=12)\n",
    "plt.ylabel(\"Percentage\", fontsize=12)\n"
   ]
  }
 ],
 "metadata": {
  "kernelspec": {
   "display_name": "Python 3",
   "language": "python",
   "name": "python3"
  },
  "language_info": {
   "codemirror_mode": {
    "name": "ipython",
    "version": 3
   },
   "file_extension": ".py",
   "mimetype": "text/x-python",
   "name": "python",
   "nbconvert_exporter": "python",
   "pygments_lexer": "ipython3",
   "version": "3.7.4"
  }
 },
 "nbformat": 4,
 "nbformat_minor": 2
}
